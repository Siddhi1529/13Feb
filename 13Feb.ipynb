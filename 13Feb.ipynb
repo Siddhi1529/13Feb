{
  "nbformat": 4,
  "nbformat_minor": 0,
  "metadata": {
    "colab": {
      "provenance": []
    },
    "kernelspec": {
      "name": "python3",
      "display_name": "Python 3"
    },
    "language_info": {
      "name": "python"
    }
  },
  "cells": [
    {
      "cell_type": "markdown",
      "source": [
        "Q1. Explain why we have to use the Exception class while creating a Custom Exception.\n",
        "Note: Here Exception class refers to the base class for all the exceptions.\n"
      ],
      "metadata": {
        "id": "wTzdExr729_c"
      }
    },
    {
      "cell_type": "markdown",
      "source": [
        "We use the `Exception` class as the base class when creating a custom exception because it provides a standard interface for exception handling in Python. By inheriting from `Exception`, our custom exception becomes part of the Python exception hierarchy, allowing it to be raised, caught, and handled in a consistent way. It also ensures that our custom exception is compatible with built-in mechanisms like `try`, `except`, and `finally`."
      ],
      "metadata": {
        "id": "dsBlT85f3MHl"
      }
    },
    {
      "cell_type": "code",
      "source": [],
      "metadata": {
        "id": "3NjG4ch_2_Xq"
      },
      "execution_count": null,
      "outputs": []
    },
    {
      "cell_type": "markdown",
      "source": [
        "Q2. Write a python program to print Python Exception Hierarchy.\n"
      ],
      "metadata": {
        "id": "KL9wMns82_e9"
      }
    },
    {
      "cell_type": "code",
      "source": [
        "import inspect\n",
        "\n",
        "# Function to print the exception hierarchy\n",
        "def print_exception_hierarchy(cls, level=0):\n",
        "    print(\"  \" * level + cls.__name__)\n",
        "    for subclass in cls.__subclasses__():\n",
        "        print_exception_hierarchy(subclass, level + 1)\n",
        "\n",
        "# Start with the base Exception class\n",
        "print_exception_hierarchy(Exception)\n"
      ],
      "metadata": {
        "colab": {
          "base_uri": "https://localhost:8080/"
        },
        "id": "SwKK1CC93BEs",
        "outputId": "bdad025f-947e-4704-f82d-5bed75ff5186"
      },
      "execution_count": 1,
      "outputs": [
        {
          "output_type": "stream",
          "name": "stdout",
          "text": [
            "Exception\n",
            "  TypeError\n",
            "    MultipartConversionError\n",
            "    FloatOperation\n",
            "    DTypePromotionError\n",
            "    UFuncTypeError\n",
            "      UFuncTypeError\n",
            "        UFuncTypeError\n",
            "      UFuncTypeError\n",
            "        UFuncTypeError\n",
            "        UFuncTypeError\n",
            "    ConversionError\n",
            "  StopAsyncIteration\n",
            "  StopIteration\n",
            "  ImportError\n",
            "    ModuleNotFoundError\n",
            "      PackageNotFoundError\n",
            "      PackageNotFoundError\n",
            "    ZipImportError\n",
            "  OSError\n",
            "    ConnectionError\n",
            "      BrokenPipeError\n",
            "      ConnectionAbortedError\n",
            "      ConnectionRefusedError\n",
            "      ConnectionResetError\n",
            "        RemoteDisconnected\n",
            "    BlockingIOError\n",
            "    ChildProcessError\n",
            "    FileExistsError\n",
            "    FileNotFoundError\n",
            "      ExecutableNotFoundError\n",
            "    IsADirectoryError\n",
            "    NotADirectoryError\n",
            "    InterruptedError\n",
            "      InterruptedSystemCall\n",
            "    PermissionError\n",
            "    ProcessLookupError\n",
            "    TimeoutError\n",
            "    UnsupportedOperation\n",
            "    itimer_error\n",
            "    Error\n",
            "      SameFileError\n",
            "    SpecialFileError\n",
            "    ExecError\n",
            "    ReadError\n",
            "    herror\n",
            "    gaierror\n",
            "    SSLError\n",
            "      SSLCertVerificationError\n",
            "      SSLZeroReturnError\n",
            "      SSLWantWriteError\n",
            "      SSLWantReadError\n",
            "      SSLSyscallError\n",
            "      SSLEOFError\n",
            "    URLError\n",
            "      HTTPError\n",
            "      ContentTooShortError\n",
            "    UnidentifiedImageError\n",
            "    BadGzipFile\n",
            "    ProxyError\n",
            "      GeneralProxyError\n",
            "      ProxyConnectionError\n",
            "      SOCKS5AuthError\n",
            "      SOCKS5Error\n",
            "      SOCKS4Error\n",
            "      HTTPError\n",
            "  EOFError\n",
            "    IncompleteReadError\n",
            "  RuntimeError\n",
            "    RecursionError\n",
            "    NotImplementedError\n",
            "      StdinNotImplementedError\n",
            "      ZMQVersionError\n",
            "    _DeadlockError\n",
            "    BrokenBarrierError\n",
            "    BrokenExecutor\n",
            "      BrokenThreadPool\n",
            "    SendfileNotAvailableError\n",
            "    RemovedCommandError\n",
            "    PackageDiscoveryError\n",
            "    TooHardError\n",
            "    VariableError\n",
            "  NameError\n",
            "    UnboundLocalError\n",
            "  AttributeError\n",
            "    FrozenInstanceError\n",
            "  SyntaxError\n",
            "    IndentationError\n",
            "      TabError\n",
            "    ParseError\n",
            "  LookupError\n",
            "    IndexError\n",
            "      AxisError\n",
            "      OutOfBounds\n",
            "    KeyError\n",
            "      UnknownBackend\n",
            "      NoSuchKernel\n",
            "    CodecRegistryError\n",
            "  ValueError\n",
            "    UnicodeError\n",
            "      UnicodeEncodeError\n",
            "      UnicodeDecodeError\n",
            "      UnicodeTranslateError\n",
            "    UnsupportedOperation\n",
            "    JSONDecodeError\n",
            "    UnsupportedDigestmodError\n",
            "    Error\n",
            "    IllegalMonthError\n",
            "    IllegalWeekdayError\n",
            "    MessageDefect\n",
            "      NoBoundaryInMultipartDefect\n",
            "      StartBoundaryNotFoundDefect\n",
            "      CloseBoundaryNotFoundDefect\n",
            "      FirstHeaderLineIsContinuationDefect\n",
            "      MisplacedEnvelopeHeaderDefect\n",
            "      MissingHeaderBodySeparatorDefect\n",
            "      MultipartInvariantViolationDefect\n",
            "      InvalidMultipartContentTransferEncodingDefect\n",
            "      UndecodableBytesDefect\n",
            "      InvalidBase64PaddingDefect\n",
            "      InvalidBase64CharactersDefect\n",
            "      InvalidBase64LengthDefect\n",
            "      HeaderDefect\n",
            "        InvalidHeaderDefect\n",
            "        HeaderMissingRequiredValue\n",
            "        NonPrintableDefect\n",
            "        ObsoleteHeaderDefect\n",
            "        NonASCIILocalPartDefect\n",
            "        InvalidDateDefect\n",
            "    ClassNotFound\n",
            "    SSLCertVerificationError\n",
            "    ClipboardEmpty\n",
            "    MacroToEdit\n",
            "    ParserError\n",
            "    UnequalIterablesError\n",
            "    UnequalIterablesError\n",
            "    ELFInvalid\n",
            "    InvalidVersion\n",
            "    InvalidName\n",
            "    InvalidWheelFilename\n",
            "    InvalidSdistFilename\n",
            "    InvalidSpecifier\n",
            "    InvalidMarker\n",
            "    UndefinedComparison\n",
            "    UndefinedEnvironmentName\n",
            "    InvalidRequirement\n",
            "    DisabledFunctionError\n",
            "    AxisError\n",
            "    LinAlgError\n",
            "    DefusedXmlException\n",
            "      DTDForbidden\n",
            "      EntitiesForbidden\n",
            "      ExternalReferenceForbidden\n",
            "      NotSupportedError\n",
            "    NonIntersectingPathException\n",
            "  AssertionError\n",
            "  ArithmeticError\n",
            "    FloatingPointError\n",
            "    OverflowError\n",
            "    ZeroDivisionError\n",
            "      DivisionByZero\n",
            "      DivisionUndefined\n",
            "    DecimalException\n",
            "      Clamped\n",
            "      Rounded\n",
            "        Underflow\n",
            "        Overflow\n",
            "      Inexact\n",
            "        Underflow\n",
            "        Overflow\n",
            "      Subnormal\n",
            "        Underflow\n",
            "      DivisionByZero\n",
            "      FloatOperation\n",
            "      InvalidOperation\n",
            "        ConversionSyntax\n",
            "        DivisionImpossible\n",
            "        DivisionUndefined\n",
            "        InvalidContext\n",
            "  SystemError\n",
            "    CodecRegistryError\n",
            "  ReferenceError\n",
            "  MemoryError\n",
            "    MemoryError\n",
            "  BufferError\n",
            "  Warning\n",
            "    UserWarning\n",
            "      GetPassWarning\n",
            "      FormatterWarning\n",
            "      SetuptoolsWarning\n",
            "        InformationOnly\n",
            "        SetuptoolsDeprecationWarning\n",
            "          _AmbiguousMarker\n",
            "          _DeprecatedConfig\n",
            "          DistDeprecationWarning\n",
            "        _MissingDynamic\n",
            "        _ExperimentalConfiguration\n",
            "        _ToolsTypoInMetadata\n",
            "      VisibleDeprecationWarning\n",
            "      RankWarning\n",
            "      ConversionWarning\n",
            "      RankWarning\n",
            "    EncodingWarning\n",
            "    DeprecationWarning\n",
            "      ProvisionalWarning\n",
            "      ModuleDeprecationWarning\n",
            "      MatplotlibDeprecationWarning\n",
            "    PendingDeprecationWarning\n",
            "    SyntaxWarning\n",
            "    RuntimeWarning\n",
            "      ProactorSelectorThreadWarning\n",
            "      UnknownTimezoneWarning\n",
            "      ComplexWarning\n",
            "      DecompressionBombWarning\n",
            "    FutureWarning\n",
            "      ProvisionalCompleterWarning\n",
            "      MaskedArrayFutureWarning\n",
            "    ImportWarning\n",
            "    UnicodeWarning\n",
            "    BytesWarning\n",
            "    ResourceWarning\n",
            "    DeprecatedTzFormatWarning\n",
            "  _OptionError\n",
            "  error\n",
            "  Verbose\n",
            "  Error\n",
            "  _Error\n",
            "  SubprocessError\n",
            "    CalledProcessError\n",
            "    TimeoutExpired\n",
            "  Error\n",
            "  TokenError\n",
            "  StopTokenizing\n",
            "  error\n",
            "  LZMAError\n",
            "  RegistryError\n",
            "  _GiveupOnFastCopy\n",
            "  ClassFoundException\n",
            "  EndOfBlock\n",
            "  TraitError\n",
            "  _GiveupOnSendfile\n",
            "  error\n",
            "  PickleError\n",
            "    PicklingError\n",
            "    UnpicklingError\n",
            "  _Stop\n",
            "  Empty\n",
            "  Full\n",
            "  ArgumentError\n",
            "  ArgumentTypeError\n",
            "  ConfigError\n",
            "    ConfigLoaderError\n",
            "      ArgumentError\n",
            "    ConfigFileNotFound\n",
            "  ConfigurableError\n",
            "    MultipleInstanceError\n",
            "  ApplicationError\n",
            "  ErrorDuringImport\n",
            "  BdbQuit\n",
            "  Restart\n",
            "  ExceptionPexpect\n",
            "    EOF\n",
            "    TIMEOUT\n",
            "  error\n",
            "  PtyProcessError\n",
            "  FindCmdError\n",
            "  HomeDirError\n",
            "  ProfileDirError\n",
            "  IPythonCoreError\n",
            "    TryNext\n",
            "    UsageError\n",
            "    StdinNotImplementedError\n",
            "  InputRejected\n",
            "  GetoptError\n",
            "  Incomplete\n",
            "  Error\n",
            "  BadZipFile\n",
            "  LargeZipFile\n",
            "  Error\n",
            "  MessageError\n",
            "    MessageParseError\n",
            "      HeaderParseError\n",
            "        _InvalidEwError\n",
            "      BoundaryError\n",
            "    MultipartConversionError\n",
            "    CharsetError\n",
            "    HeaderWriteError\n",
            "  OptionError\n",
            "  ErrorToken\n",
            "  PrefilterError\n",
            "  AliasError\n",
            "    InvalidAliasError\n",
            "  Error\n",
            "    InterfaceError\n",
            "    DatabaseError\n",
            "      InternalError\n",
            "      OperationalError\n",
            "      ProgrammingError\n",
            "      IntegrityError\n",
            "      DataError\n",
            "      NotSupportedError\n",
            "  Warning\n",
            "  Error\n",
            "    CancelledError\n",
            "    TimeoutError\n",
            "    InvalidStateError\n",
            "  TimeoutError\n",
            "  InvalidStateError\n",
            "  LimitOverrunError\n",
            "  QueueEmpty\n",
            "  QueueFull\n",
            "  SpaceInInput\n",
            "  DOMException\n",
            "    IndexSizeErr\n",
            "    DomstringSizeErr\n",
            "    HierarchyRequestErr\n",
            "    WrongDocumentErr\n",
            "    InvalidCharacterErr\n",
            "    NoDataAllowedErr\n",
            "    NoModificationAllowedErr\n",
            "    NotFoundErr\n",
            "    NotSupportedErr\n",
            "    InuseAttributeErr\n",
            "    InvalidStateErr\n",
            "    SyntaxErr\n",
            "    InvalidModificationErr\n",
            "    NamespaceErr\n",
            "    InvalidAccessErr\n",
            "    ValidationErr\n",
            "  ValidationError\n",
            "  EditReadOnlyBuffer\n",
            "  _Retry\n",
            "  InvalidLayoutError\n",
            "  HeightIsUnknownError\n",
            "  ExpatError\n",
            "  ParseEscape\n",
            "  HTTPException\n",
            "    NotConnected\n",
            "    InvalidURL\n",
            "    UnknownProtocol\n",
            "    UnknownTransferEncoding\n",
            "    UnimplementedFileMode\n",
            "    IncompleteRead\n",
            "    ImproperConnectionState\n",
            "      CannotSendRequest\n",
            "      CannotSendHeader\n",
            "      ResponseNotReady\n",
            "    BadStatusLine\n",
            "      RemoteDisconnected\n",
            "    LineTooLong\n",
            "  InteractivelyDefined\n",
            "  KillEmbedded\n",
            "  ArgumentError\n",
            "  ZMQBaseError\n",
            "    ZMQError\n",
            "      ContextTerminated\n",
            "      Again\n",
            "      InterruptedSystemCall\n",
            "    ZMQBindError\n",
            "    NotDone\n",
            "  NoIPAddresses\n",
            "  Error\n",
            "    NoSectionError\n",
            "    DuplicateSectionError\n",
            "    DuplicateOptionError\n",
            "    NoOptionError\n",
            "    InterpolationError\n",
            "      InterpolationMissingOptionError\n",
            "      InterpolationSyntaxError\n",
            "      InterpolationDepthError\n",
            "    ParsingError\n",
            "      MissingSectionHeaderError\n",
            "  InvalidPortNumber\n",
            "  DuplicateKernelError\n",
            "  error\n",
            "  ReturnValueIgnoredError\n",
            "  KeyReuseError\n",
            "  UnknownKeyError\n",
            "  LeakedCallbackError\n",
            "  BadYieldError\n",
            "  ReturnValueIgnoredError\n",
            "  Return\n",
            "  QueueEmpty\n",
            "  QueueFull\n",
            "  IPythonError\n",
            "    KernelError\n",
            "      EngineError\n",
            "      NoEnginesRegistered\n",
            "      TaskAborted\n",
            "      TaskTimeout\n",
            "      UnmetDependency\n",
            "        ImpossibleDependency\n",
            "          DependencyTimeout\n",
            "          InvalidDependency\n",
            "      RemoteError\n",
            "        CompositeError\n",
            "        AlreadyDisplayedError\n",
            "      TaskRejectError\n",
            "  ProcessError\n",
            "    BufferTooShort\n",
            "    TimeoutError\n",
            "    AuthenticationError\n",
            "  BadEntryPoint\n",
            "  NoSuchEntryPoint\n",
            "  Error\n",
            "    NoSuchProcess\n",
            "      ZombieProcess\n",
            "    AccessDenied\n",
            "    TimeoutExpired\n",
            "  _Ipv6UnsupportedError\n",
            "  LauncherError\n",
            "    ProcessStateError\n",
            "    UnknownStatus\n",
            "    NotRunning\n",
            "  DistutilsError\n",
            "    DistutilsModuleError\n",
            "    DistutilsClassError\n",
            "    DistutilsGetoptError\n",
            "    DistutilsArgError\n",
            "    DistutilsFileError\n",
            "    DistutilsOptionError\n",
            "      InvalidConfigError\n",
            "      RemovedConfigError\n",
            "    DistutilsSetupError\n",
            "    DistutilsPlatformError\n",
            "    DistutilsExecError\n",
            "    DistutilsInternalError\n",
            "    DistutilsTemplateError\n",
            "    DistutilsByteCompileError\n",
            "    RemovedCommandError\n",
            "    PackageDiscoveryError\n",
            "  CCompilerError\n",
            "    PreprocessError\n",
            "    CompileError\n",
            "    LibError\n",
            "    LinkError\n",
            "    UnknownFileError\n",
            "  TarError\n",
            "    ExtractError\n",
            "    ReadError\n",
            "    CompressionError\n",
            "    StreamError\n",
            "    HeaderError\n",
            "      EmptyHeaderError\n",
            "      TruncatedHeaderError\n",
            "      EOFHeaderError\n",
            "      InvalidHeaderError\n",
            "      SubsequentHeaderError\n",
            "    FilterError\n",
            "      AbsolutePathError\n",
            "      OutsideDestinationError\n",
            "      SpecialFileError\n",
            "      AbsoluteLinkError\n",
            "      LinkOutsideDestinationError\n",
            "  ParserSyntaxError\n",
            "  Error\n",
            "    AuthorizationError\n",
            "    RuntimeManagementError\n",
            "    MessageError\n",
            "  WidgetException\n",
            "  JsException\n",
            "  ConverterError\n",
            "    ConverterLockError\n",
            "  MAError\n",
            "    MaskError\n",
            "  FormattedTracebackError\n",
            "  ParseBaseException\n",
            "    ParseException\n",
            "    ParseFatalException\n",
            "      ParseSyntaxException\n",
            "  RecursiveGrammarException\n",
            "  _ParseActionIndexError\n",
            "  HttpLib2Error\n",
            "    HttpLib2ErrorWithResponse\n",
            "      RedirectMissingLocation\n",
            "      RedirectLimit\n",
            "      FailedToDecompressContent\n",
            "      UnimplementedDigestAuthOptionError\n",
            "      UnimplementedHmacDigestAuthOptionError\n",
            "    MalformedHeader\n",
            "    RelativeURIError\n",
            "    ServerNotFoundError\n",
            "    ProxiesUnavailableError\n",
            "  DecompressionBombError\n",
            "  BadRequiredStrength\n",
            "  DuplicateConstraint\n",
            "  DuplicateEditVariable\n",
            "  UnknownConstraint\n",
            "  UnknownEditVariable\n",
            "  UnsatisfiableConstraint\n",
            "  NonGuiException\n",
            "  InvalidIndexError\n",
            "  TerminateTrajectory\n",
            "  NoFreePortFoundError\n",
            "  DebuggerInitializationError\n",
            "  Error\n",
            "    ProtocolError\n",
            "    ResponseError\n",
            "    Fault\n",
            "  _Error\n",
            "  UnableToResolveVariableException\n",
            "  InvalidTypeInArgsException\n"
          ]
        }
      ]
    },
    {
      "cell_type": "markdown",
      "source": [
        "Q3. What errors are defined in the ArithmeticError class? Explain any two with an example.\n"
      ],
      "metadata": {
        "id": "Bxxs5JMD3BME"
      }
    },
    {
      "cell_type": "markdown",
      "source": [
        "he ArithmeticError class is the base class for errors that occur during arithmetic operations. The following errors are defined under the ArithmeticError class:\n",
        "\n",
        "FloatingPointError: Raised when a floating-point operation fails.\n",
        "\n",
        "OverflowError: Raised when a calculation exceeds the limit of the number representation.\n",
        "\n",
        "ZeroDivisionError: Raised when a division by zero is attempted."
      ],
      "metadata": {
        "id": "pYbDBgsJ3cOH"
      }
    },
    {
      "cell_type": "code",
      "source": [
        "try:\n",
        "    result = 10 / 0\n",
        "except ZeroDivisionError as e:\n",
        "    print(f\"Error: {e}\")\n"
      ],
      "metadata": {
        "colab": {
          "base_uri": "https://localhost:8080/"
        },
        "id": "r87ImDNz3CR_",
        "outputId": "3ff926c5-8366-4588-d900-7da1dd703f21"
      },
      "execution_count": 2,
      "outputs": [
        {
          "output_type": "stream",
          "name": "stdout",
          "text": [
            "Error: division by zero\n"
          ]
        }
      ]
    },
    {
      "cell_type": "code",
      "source": [
        "import math\n",
        "\n",
        "# Enable floating point exceptions\n",
        "import sys\n",
        "sys.float_info\n",
        "\n",
        "# Triggering FloatingPointError\n",
        "try:\n",
        "    # Trying to take the logarithm of a negative number\n",
        "    result = math.log(-1)\n",
        "except FloatingPointError as e:\n",
        "    print(f\"FloatingPointError: {e}\")\n"
      ],
      "metadata": {
        "colab": {
          "base_uri": "https://localhost:8080/",
          "height": 216
        },
        "id": "4Lk5qYBS3tmE",
        "outputId": "1d23c572-6a84-4102-b9c9-39df45644d34"
      },
      "execution_count": 5,
      "outputs": [
        {
          "output_type": "error",
          "ename": "ValueError",
          "evalue": "math domain error",
          "traceback": [
            "\u001b[0;31m---------------------------------------------------------------------------\u001b[0m",
            "\u001b[0;31mValueError\u001b[0m                                Traceback (most recent call last)",
            "\u001b[0;32m<ipython-input-5-250b2553e405>\u001b[0m in \u001b[0;36m<cell line: 8>\u001b[0;34m()\u001b[0m\n\u001b[1;32m      8\u001b[0m \u001b[0;32mtry\u001b[0m\u001b[0;34m:\u001b[0m\u001b[0;34m\u001b[0m\u001b[0;34m\u001b[0m\u001b[0m\n\u001b[1;32m      9\u001b[0m     \u001b[0;31m# Trying to take the logarithm of a negative number\u001b[0m\u001b[0;34m\u001b[0m\u001b[0;34m\u001b[0m\u001b[0m\n\u001b[0;32m---> 10\u001b[0;31m     \u001b[0mresult\u001b[0m \u001b[0;34m=\u001b[0m \u001b[0mmath\u001b[0m\u001b[0;34m.\u001b[0m\u001b[0mlog\u001b[0m\u001b[0;34m(\u001b[0m\u001b[0;34m-\u001b[0m\u001b[0;36m1\u001b[0m\u001b[0;34m)\u001b[0m\u001b[0;34m\u001b[0m\u001b[0;34m\u001b[0m\u001b[0m\n\u001b[0m\u001b[1;32m     11\u001b[0m \u001b[0;32mexcept\u001b[0m \u001b[0mFloatingPointError\u001b[0m \u001b[0;32mas\u001b[0m \u001b[0me\u001b[0m\u001b[0;34m:\u001b[0m\u001b[0;34m\u001b[0m\u001b[0;34m\u001b[0m\u001b[0m\n\u001b[1;32m     12\u001b[0m     \u001b[0mprint\u001b[0m\u001b[0;34m(\u001b[0m\u001b[0;34mf\"FloatingPointError: {e}\"\u001b[0m\u001b[0;34m)\u001b[0m\u001b[0;34m\u001b[0m\u001b[0;34m\u001b[0m\u001b[0m\n",
            "\u001b[0;31mValueError\u001b[0m: math domain error"
          ]
        }
      ]
    },
    {
      "cell_type": "markdown",
      "source": [
        "Q4. Why LookupError class is used? Explain with an example KeyError and IndexError.\n"
      ],
      "metadata": {
        "id": "MbV5ZC313CY6"
      }
    },
    {
      "cell_type": "markdown",
      "source": [
        "The **`LookupError`** class is a base class for exceptions raised when a key or index is invalid. It includes **`KeyError`** (raised when a dictionary key is not found) and **`IndexError`** (raised when an index is out of range in a sequence). Using `LookupError` allows handling both errors in a unified way. For example, accessing a nonexistent key in a dictionary or an out-of-bounds index in a list triggers these exceptions."
      ],
      "metadata": {
        "id": "6e3lxkIN34EF"
      }
    },
    {
      "cell_type": "code",
      "source": [
        "# keyerror\n",
        "\n",
        "my_dict = {\"name\": \"John\", \"age\": 30}\n",
        "\n",
        "try:\n",
        "    # Attempting to access a key that doesn't exist\n",
        "    value = my_dict[\"address\"]\n",
        "except KeyError as e:\n",
        "    print(f\"KeyError: {e}\")\n"
      ],
      "metadata": {
        "colab": {
          "base_uri": "https://localhost:8080/"
        },
        "id": "qTEP8nqo3DbB",
        "outputId": "fe4f3b96-db7c-463d-a283-3934e83b582c"
      },
      "execution_count": 6,
      "outputs": [
        {
          "output_type": "stream",
          "name": "stdout",
          "text": [
            "KeyError: 'address'\n"
          ]
        }
      ]
    },
    {
      "cell_type": "code",
      "source": [
        "#index error\n",
        "\n",
        "my_list = [1, 2, 3]\n",
        "\n",
        "try:\n",
        "    # Attempting to access an index that is out of range\n",
        "    value = my_list[5]\n",
        "except IndexError as e:\n",
        "    print(f\"IndexError: {e}\")\n"
      ],
      "metadata": {
        "colab": {
          "base_uri": "https://localhost:8080/"
        },
        "id": "MW0hD_h2394C",
        "outputId": "f79c7a0e-89de-4df8-9a02-16332cf9218c"
      },
      "execution_count": 7,
      "outputs": [
        {
          "output_type": "stream",
          "name": "stdout",
          "text": [
            "IndexError: list index out of range\n"
          ]
        }
      ]
    },
    {
      "cell_type": "markdown",
      "source": [
        "Q5. Explain ImportError. What is ModuleNotFoundError?\n"
      ],
      "metadata": {
        "id": "sUf9LeFu3DkE"
      }
    },
    {
      "cell_type": "markdown",
      "source": [
        "ImportError is raised when an imported module or its attributes cannot be found. It occurs if the Python interpreter is unable to locate the specified module, or there is an issue with the module's code."
      ],
      "metadata": {
        "id": "IGLg2AA94Ef2"
      }
    },
    {
      "cell_type": "markdown",
      "source": [
        "ModuleNotFoundError is a subclass of ImportError, introduced in Python 3.6. It is raised specifically when a module cannot be found in the Python environment."
      ],
      "metadata": {
        "id": "zTM10Hbl4IK5"
      }
    },
    {
      "cell_type": "code",
      "source": [],
      "metadata": {
        "id": "V1vISWiF3Equ"
      },
      "execution_count": null,
      "outputs": []
    },
    {
      "cell_type": "markdown",
      "source": [
        "Q6. List down some best practices for exception handling in python."
      ],
      "metadata": {
        "id": "jng_Q3_D3Ex1"
      }
    },
    {
      "cell_type": "markdown",
      "source": [
        "1. Catch Specific Exceptions: Always catch specific exceptions rather than using a broad except block to catch all exceptions. This makes it easier to identify and handle different errors appropriately.\n",
        "\n",
        "2. Avoid Bare except Clauses: Avoid using a bare except: clause, as it catches all exceptions, including system-exiting exceptions. This can make debugging difficult.\n",
        "\n",
        "3. Use else for Code that Runs When No Exceptions Occur: The else block should be used for code that should only run if no exception occurs in the try block. This makes your code more readable."
      ],
      "metadata": {
        "id": "fvuxfa8h4OCo"
      }
    },
    {
      "cell_type": "code",
      "source": [],
      "metadata": {
        "id": "93oHE1rL3FF8"
      },
      "execution_count": null,
      "outputs": []
    }
  ]
}